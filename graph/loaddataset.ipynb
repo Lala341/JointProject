{
 "cells": [
  {
   "cell_type": "code",
   "execution_count": 9,
   "metadata": {},
   "outputs": [],
   "source": [
    "import pandas as pd\n",
    "\n",
    "path =\"https://wwwn.cdc.gov/Nchs/Nhanes/2017-2018/\"\n",
    "urls = [\"P_DEMO.XPT\",\"P_ALQ.XPT\",\n",
    "               \"P_AUQ.XPT\",\"P_BPQ.XPT\",\n",
    "               \"P_CDQ.XPT\",\"P_DIQ.XPT\",\n",
    "               \"P_DBQ.XPT\",\"P_HEQ.XPT\",\n",
    "               \"P_KIQ_U.XPT\",\"P_MCQ.XPT\",\n",
    "               \"P_DPQ.XPT\",\"P_OSQ.XPT\",\n",
    "               \"P_PAQ.XPT\",\"P_SLQ.XPT\",\n",
    "               \"P_WHQ.XPT\"]\n",
    "\n",
    "\n",
    "# Specify the path to your .xpt file\n",
    "file_path = \"C:/Users/lauis/Downloads/data/\"\n",
    "\n",
    "for i in urls:\n",
    "    # Read the .xpt file using pandas\n",
    "    data_frame = pd.read_sas(path+i, format='xport')\n",
    "\n",
    "    # Display the contents of the data frame\n",
    "    temp=i.replace(\".XPT\", \".csv\")\n",
    "    data_frame.to_csv(file_path+temp, index=False)\n"
   ]
  }
 ],
 "metadata": {
  "kernelspec": {
   "display_name": "Python 3",
   "language": "python",
   "name": "python3"
  },
  "language_info": {
   "codemirror_mode": {
    "name": "ipython",
    "version": 3
   },
   "file_extension": ".py",
   "mimetype": "text/x-python",
   "name": "python",
   "nbconvert_exporter": "python",
   "pygments_lexer": "ipython3",
   "version": "3.10.3"
  },
  "orig_nbformat": 4
 },
 "nbformat": 4,
 "nbformat_minor": 2
}
