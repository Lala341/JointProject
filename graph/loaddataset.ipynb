{
 "cells": [
  {
   "cell_type": "code",
   "execution_count": 1,
   "metadata": {},
   "outputs": [
    {
     "name": "stdout",
     "output_type": "stream",
     "text": [
      "           SEQN  ACD011A  ACD011B  ACD011C  ACD040  ACD110\n",
      "0      109264.0      NaN      NaN      NaN     5.0     NaN\n",
      "1      109266.0      NaN      NaN      NaN     NaN     1.0\n",
      "2      109267.0      NaN      NaN      NaN     4.0     NaN\n",
      "3      109268.0      1.0      NaN      NaN     NaN     NaN\n",
      "4      109270.0      1.0      NaN      NaN     NaN     NaN\n",
      "...         ...      ...      ...      ...     ...     ...\n",
      "14144  124817.0      NaN      NaN      NaN     2.0     NaN\n",
      "14145  124818.0      1.0      NaN      NaN     NaN     NaN\n",
      "14146  124820.0      1.0      NaN      NaN     NaN     NaN\n",
      "14147  124821.0      1.0      NaN      NaN     NaN     NaN\n",
      "14148  124822.0      NaN      NaN      NaN     3.0     NaN\n",
      "\n",
      "[14149 rows x 6 columns]\n"
     ]
    }
   ],
   "source": [
    "import pandas as pd\n",
    "\n",
    "# Specify the path to your .xpt file\n",
    "file_path = \"/Users/lauraforerocamacho/Downloads/P_ACQ.xpt\"\n",
    "\n",
    "# Read the .xpt file using pandas\n",
    "data_frame = pd.read_sas(file_path, format='xport')\n",
    "\n",
    "# Display the contents of the data frame\n",
    "print(data_frame)\n"
   ]
  }
 ],
 "metadata": {
  "kernelspec": {
   "display_name": "Python 3",
   "language": "python",
   "name": "python3"
  },
  "language_info": {
   "codemirror_mode": {
    "name": "ipython",
    "version": 3
   },
   "file_extension": ".py",
   "mimetype": "text/x-python",
   "name": "python",
   "nbconvert_exporter": "python",
   "pygments_lexer": "ipython3",
   "version": "3.8.9"
  },
  "orig_nbformat": 4
 },
 "nbformat": 4,
 "nbformat_minor": 2
}
